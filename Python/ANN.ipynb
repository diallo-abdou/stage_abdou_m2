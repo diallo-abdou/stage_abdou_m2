{
  "cells": [
    {
      "cell_type": "markdown",
      "metadata": {
        "id": "uhB3iZZsWAWe"
      },
      "source": [
        "# ANN\n",
        "\n",
        "Inspiration 1 [ici](https://lucidar.me/en/neural-networks/curve-fitting-nonlinear-regression/).\n",
        "\n",
        "\n",
        "Inspiration 2 [ici](https://www.geeksforgeeks.org/artificial-neural-network-in-tensorflow/)."
      ]
    },
    {
      "cell_type": "markdown",
      "metadata": {
        "id": "2pqhyoFbW4eA"
      },
      "source": [
        "## Check/install TensorFlow version\n",
        "**Must be version 2.1.0**\n"
      ]
    },
    {
      "cell_type": "code",
      "execution_count": null,
      "metadata": {
        "colab": {
          "base_uri": "https://localhost:8080/"
        },
        "id": "UuSy9cgA60Sy",
        "outputId": "1da5083a-c9b9-4a0e-d838-b452298877ef"
      },
      "outputs": [],
      "source": [
        "# Switch the TensorFlow version 2.1\n",
        "#!pip install tensorflow==2.1.0"
      ]
    },
    {
      "cell_type": "markdown",
      "metadata": {
        "id": "qASyOjUDx1Lq"
      },
      "source": [
        "## Import libraries"
      ]
    },
    {
      "cell_type": "code",
      "execution_count": 2,
      "metadata": {
        "colab": {
          "base_uri": "https://localhost:8080/"
        },
        "id": "Rz1Q7i9xx1Lt",
        "outputId": "48d3d780-ad98-45f5-8b24-a7ba4eea5c8e"
      },
      "outputs": [
        {
          "name": "stdout",
          "output_type": "stream",
          "text": [
            "TensorFlow version: 2.14.0\n"
          ]
        }
      ],
      "source": [
        "import numpy as np\n",
        "import matplotlib.pyplot as plt\n",
        "from tensorflow import keras\n",
        "#from google.colab import files\n",
        "import tensorflow as tf\n",
        "import math\n",
        "\n",
        "print ('TensorFlow version: ' + tf.__version__)\n",
        "\n"
      ]
    },
    {
      "cell_type": "code",
      "execution_count": null,
      "metadata": {},
      "outputs": [],
      "source": [
        "# Import the data"
      ]
    },
    {
      "cell_type": "code",
      "execution_count": null,
      "metadata": {},
      "outputs": [],
      "source": [
        "x_data = np.linspace(-10, 10, num=1000)\n",
        "y_data = 0.1*x_data*np.cos(x_data) + 0.1*np.random.normal(size=1000)\n",
        "\n",
        "df = pd.read_csv('data.txt')"
      ]
    },
    {
      "cell_type": "markdown",
      "metadata": {
        "id": "5f_ikNz8x1Lz"
      },
      "source": [
        "# Create the model"
      ]
    },
    {
      "cell_type": "code",
      "execution_count": null,
      "metadata": {
        "colab": {
          "base_uri": "https://localhost:8080/"
        },
        "id": "sMvpBFj5x1L0",
        "outputId": "c82abe3d-d2f3-48e9-8988-3fd5844a85b6"
      },
      "outputs": [],
      "source": [
        "# Create the model\n",
        "model = keras.Sequential()\n",
        "model.add(keras.layers.Dense(units = 1, activation = 'linear', input_shape=[1]))\n",
        "model.add(keras.layers.Dense(units = 64, activation = 'relu'))\n",
        "model.add(keras.layers.Dense(units = 64, activation = 'relu'))\n",
        "model.add(keras.layers.Dense(units = 1, activation = 'linear'))\n",
        "model.compile(loss='mse', optimizer=\"adam\")\n",
        "\n",
        "# Display the model\n",
        "model.summary()"
      ]
    },
    {
      "cell_type": "markdown",
      "metadata": {
        "id": "Sxr1qxVex1L4"
      },
      "source": [
        "## Training over 100 epochs"
      ]
    },
    {
      "cell_type": "code",
      "execution_count": null,
      "metadata": {
        "colab": {
          "base_uri": "https://localhost:8080/"
        },
        "id": "M3XBJMj4x1L5",
        "outputId": "ee06297d-6f58-48ad-a704-a736a8afcf23"
      },
      "outputs": [],
      "source": [
        "# Training\n",
        "\n",
        "model.fit( x_data, y_data, epochs=100, verbose=1)"
      ]
    },
    {
      "cell_type": "markdown",
      "metadata": {
        "id": "gLEzVkjex1L9"
      },
      "source": [
        "# Predict and display"
      ]
    },
    {
      "cell_type": "code",
      "execution_count": null,
      "metadata": {
        "colab": {
          "base_uri": "https://localhost:8080/",
          "height": 265
        },
        "id": "IcKpdLe9x1L-",
        "outputId": "d04beab3-6faf-4ecd-d85e-ebdad96176c1"
      },
      "outputs": [],
      "source": [
        "# Compute the output\n",
        "y_predicted = model.predict(x_data)\n",
        "\n",
        "# Display the result\n",
        "plt.scatter(x_data[::1], y_data[::1], s=1)\n",
        "plt.plot(x_data, y_predicted, 'r', linewidth=4)\n",
        "plt.grid()\n",
        "#plt.show()\n",
        "plt.savefig('training.png', dpi=300)\n",
        "files.download(\"training.png\")"
      ]
    },
    {
      "cell_type": "markdown",
      "metadata": {
        "id": "OEEhzK4YHOdC"
      },
      "source": [
        "## Create image sequence for video"
      ]
    },
    {
      "cell_type": "code",
      "execution_count": null,
      "metadata": {
        "colab": {
          "base_uri": "https://localhost:8080/",
          "height": 1000
        },
        "id": "13RiCs72HMH6",
        "outputId": "00482f4e-4cd8-4fa2-9fc5-0ab8e18699f7"
      },
      "outputs": [],
      "source": [
        "# for x in range(100):\n",
        "#   # One epoch\n",
        "#   model.fit( x_data, y_data, epochs=1, verbose=1)\n",
        "\n",
        "#   # Compute the output\n",
        "#   y_predicted = model.predict(x_data)\n",
        "\n",
        "#   # Display the result\n",
        "#   plt.scatter(x_data[::1], y_data[::1], s=2)\n",
        "#   plt.plot(x_data, y_predicted, 'r', linewidth=4)\n",
        "#   plt.grid()\n",
        "#   plt.ylim(top=1.2)  # adjust the top leaving bottom unchanged\n",
        "#   plt.ylim(bottom=-1.2)\n",
        "#   #plt.show()\n",
        "#   plt.savefig('training-' + str(x) +'-epochs.png',dpi=300)\n",
        "#   #files.download('training-' + str(x) +'-epochs.png')\n",
        "#   plt.clf()\n",
        "\n"
      ]
    },
    {
      "cell_type": "code",
      "execution_count": null,
      "metadata": {},
      "outputs": [],
      "source": []
    }
  ],
  "metadata": {
    "colab": {
      "provenance": []
    },
    "file_extension": ".py",
    "kernelspec": {
      "display_name": "Python 3",
      "language": "python",
      "name": "python3"
    },
    "language_info": {
      "codemirror_mode": {
        "name": "ipython",
        "version": 3
      },
      "file_extension": ".py",
      "mimetype": "text/x-python",
      "name": "python",
      "nbconvert_exporter": "python",
      "pygments_lexer": "ipython3",
      "version": "3.11.5"
    },
    "mimetype": "text/x-python",
    "name": "python",
    "npconvert_exporter": "python",
    "orig_nbformat": 2,
    "pygments_lexer": "ipython3",
    "version": 3
  },
  "nbformat": 4,
  "nbformat_minor": 0
}
