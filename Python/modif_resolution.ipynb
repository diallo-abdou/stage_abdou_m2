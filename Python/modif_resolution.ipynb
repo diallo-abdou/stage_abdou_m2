{
 "cells": [
  {
   "cell_type": "code",
   "execution_count": null,
   "metadata": {},
   "outputs": [],
   "source": [
    "from osgeo import gdal\n",
    "import numpy as np\n",
    "import matplotlib.pyplot as plt\n",
    "\n",
    "chemin =\"C:\\Users\\diall\\Downloads\\datas\\sol_ph.h2o_usda.4c1a2a_m_250m_b0..0cm_1950..2017_v0.2.tif\"\n",
    "ph_0_origine = gdal.Open(chemin)\n",
    "\n",
    "# reproject\n",
    "dsReprj = gdal.Warp(\"demReprj.tif\", ph_0_origine, dstSRS = \"EPSG:4326\")\n",
    "# resample\n",
    "dsRes = gdal.Warp(\"demRes.tif\", ph_0_origine, xRes = 150, yRes = 150, resampleAlg = \"bilinear\")"
   ]
  },
  {
   "cell_type": "code",
   "execution_count": 1,
   "metadata": {},
   "outputs": [
    {
     "name": "stdout",
     "output_type": "stream",
     "text": [
      "0.02499999\n"
     ]
    }
   ],
   "source": [
    "from osgeo import gdal\n",
    "\n",
    "# Chemin vers le raster de référence\n",
    "#raster_ref_path = \"https://os.zhdk.cloud.switch.ch/envicloud/chelsa/chelsa_V2/GLOBAL/climatologies/1981-2010/bio/CHELSA_clt_max_1981-2010_V.2.1.tif\"\n",
    "\n",
    "# Chemin vers le raster à rééchantillonner\n",
    "raster_to_resample_path = \"C:/Users/diall/Downloads/datas/sol_ph.h2o_usda.4c1a2a_m_250m_b0..0cm_1950..2017_v0.2.tif\"\n",
    "\n",
    "# Chemin de sortie pour le nouveau raster rééchantillonné\n",
    "output_raster_path = \"C:/Users/diall/Downloads/datas/raster_rechantillonne_2.tif\"\n",
    "\n",
    "\n",
    "raster_ref = gdal.Open(raster_ref_path)\n",
    "resolution_ref = 0.02499999 # raster_ref.GetGeoTransform()[1]\n",
    "\n",
    "# Rééchantillonnage du raster à la résolution du raster de référence\n",
    "gdal.Warp(output_raster_path, raster_to_resample_path, xRes=resolution_ref, yRes=resolution_ref,resampleAlg = \"bilinear\")\n",
    "\n",
    "# close les fichiers raster ouverts\n",
    "raster_ref = None\n"
   ]
  },
  {
   "cell_type": "code",
   "execution_count": 1,
   "metadata": {},
   "outputs": [],
   "source": [
    "import os\n",
    "from osgeo import gdal\n",
    "\n",
    "def resample_rasters(folder_path, output_folder, resolution_ref):\n",
    "    \n",
    "    if not os.path.exists(output_folder):\n",
    "        os.makedirs(output_folder)\n",
    "\n",
    "    # Parcourir tous les fichiers dans le dossier d'entrée\n",
    "    for file_name in os.listdir(folder_path):\n",
    "        if file_name.endswith('.tif'):  # il faut que le fichier soit un tif\n",
    "            input_raster_path = os.path.join(folder_path, file_name)\n",
    "            output_raster_path = os.path.join(output_folder, file_name)\n",
    "            # Rééchantillonnage du raster à la résolution de référence\n",
    "            gdal.Warp(output_raster_path, input_raster_path, xRes=resolution_ref, yRes=resolution_ref, resampleAlg=\"bilinear\")\n",
    "\n",
    "\n",
    "chemin_dossier_rasters = \"C:/Users/diall/Downloads/datas/elev_origine\"\n",
    "dossier_sortie_rasters = \"C:/Users/diall/Downloads/datas/raster_modif\"\n",
    "resolution_reference = 0.008333333\n",
    "\n",
    "resample_rasters(chemin_dossier_rasters, dossier_sortie_rasters, resolution_reference)\n",
    "\n",
    "\n",
    "\n"
   ]
  },
  {
   "cell_type": "code",
   "execution_count": 16,
   "metadata": {},
   "outputs": [
    {
     "name": "stdout",
     "output_type": "stream",
     "text": [
      "Projection du raster : GEOGCS[\"WGS 84\",DATUM[\"WGS_1984\",SPHEROID[\"WGS 84\",6378137,298.257223563,AUTHORITY[\"EPSG\",\"7030\"]],AUTHORITY[\"EPSG\",\"6326\"]],PRIMEM[\"Greenwich\",0,AUTHORITY[\"EPSG\",\"8901\"]],UNIT[\"degree\",0.0174532925199433,AUTHORITY[\"EPSG\",\"9122\"]],AXIS[\"Latitude\",NORTH],AXIS[\"Longitude\",EAST],AUTHORITY[\"EPSG\",\"4326\"]]\n"
     ]
    }
   ],
   "source": [
    "from osgeo import gdal\n",
    "\n",
    "# Chemin vers le raster\n",
    "#chemin = \"C:/Users/diall/Downloads/datas/raster_modif/sol_ph.h2o_usda.4c1a2a_m_250m_b0..0cm_1950..2017_v0.2.tif\"\n",
    "#chemin = \"https://os.zhdk.cloud.switch.ch/envicloud/chelsa/chelsa_V2/GLOBAL/climatologies/1981-2010/bio/CHELSA_clt_max_1981-2010_V.2.1.tif\"\n",
    "chemin = \"C:/Users/diall/Downloads/datas/raster_modif/sable.0_5.tif\"\n",
    "# Ouvrir le raster\n",
    "raster = gdal.Open(chemin)\n",
    "\n",
    "# Obtenir la projection\n",
    "projection = raster.GetProjection()\n",
    "print(\"Projection du raster :\", projection)\n",
    "# projection = GEOGCS[\"WGS 84\",DATUM[\"WGS_1984\",SPHEROID[\"WGS 84\",6378137,298.257223563,AUTHORITY[\"EPSG\",\"7030\"]],AUTHORITY[\"EPSG\",\"6326\"]],PRIMEM[\"Greenwich\",0,AUTHORITY[\"EPSG\",\"8901\"]],UNIT[\"degree\",0.0174532925199433,AUTHORITY[\"EPSG\",\"9122\"]],AXIS[\"Latitude\",NORTH],AXIS[\"Longitude\",EAST],AUTHORITY[\"EPSG\",\"4326\"]]\n",
    "raster= None"
   ]
  },
  {
   "cell_type": "code",
   "execution_count": 2,
   "metadata": {},
   "outputs": [
    {
     "ename": "ModuleNotFoundError",
     "evalue": "No module named 'osgeo'",
     "output_type": "error",
     "traceback": [
      "\u001b[1;31m---------------------------------------------------------------------------\u001b[0m",
      "\u001b[1;31mModuleNotFoundError\u001b[0m                       Traceback (most recent call last)",
      "Cell \u001b[1;32mIn[2], line 2\u001b[0m\n\u001b[0;32m      1\u001b[0m \u001b[38;5;28;01mimport\u001b[39;00m \u001b[38;5;21;01mos\u001b[39;00m\n\u001b[1;32m----> 2\u001b[0m \u001b[38;5;28;01mfrom\u001b[39;00m \u001b[38;5;21;01mosgeo\u001b[39;00m \u001b[38;5;28;01mimport\u001b[39;00m gdal\n\u001b[0;32m      4\u001b[0m \u001b[38;5;28;01mdef\u001b[39;00m \u001b[38;5;21mresample_rasters\u001b[39m(folder_path, output_folder, resolution_ref):\n\u001b[0;32m      6\u001b[0m     \u001b[38;5;28;01mif\u001b[39;00m \u001b[38;5;129;01mnot\u001b[39;00m os\u001b[38;5;241m.\u001b[39mpath\u001b[38;5;241m.\u001b[39mexists(output_folder):\n",
      "\u001b[1;31mModuleNotFoundError\u001b[0m: No module named 'osgeo'"
     ]
    }
   ],
   "source": [
    "import os\n",
    "from osgeo import gdal\n",
    "\n",
    "def resample_rasters(folder_path, output_folder, resolution_ref):\n",
    "    \n",
    "    if not os.path.exists(output_folder):\n",
    "        os.makedirs(output_folder)\n",
    "\n",
    "    # Parcourir tous les fichiers dans le dossier d'entrée\n",
    "    for file_name in os.listdir(folder_path):\n",
    "        if file_name.endswith('.tif'):  # il faut que le fichier soit un tif\n",
    "            input_raster_path = os.path.join(folder_path, file_name)\n",
    "            output_raster_path = os.path.join(output_folder, file_name)\n",
    "\n",
    "            # Ouvrir le raster\n",
    "            raster = gdal.Open(input_raster_path)\n",
    "\n",
    "            # Obtenir la projection actuelle du raster\n",
    "            projection = raster.GetProjection()\n",
    "\n",
    "            # Vérifier si la projection est différente de la projection cible\n",
    "            if projection != \"GEOGCS['WGS 84',DATUM['WGS_1984',SPHEROID['WGS 84',6378137,298.257223563,AUTHORITY['EPSG','7030']],AUTHORITY['EPSG','6326']],PRIMEM['Greenwich',0,AUTHORITY['EPSG','8901']],UNIT['degree',0.0174532925199433,AUTHORITY['EPSG','9122']],AXIS['Latitude',NORTH],AXIS['Longitude',EAST],AUTHORITY['EPSG','4326']]\":\n",
    "\n",
    "                # Convertir le raster vers la nouvelle projection\n",
    "                gdal.Warp(output_raster_path, raster, dstSRS=\"EPSG:4326\", xRes=resolution_ref, yRes=resolution_ref, resampleAlg=\"bilinear\")\n",
    "\n",
    "            else:\n",
    "                # Rééchantillonnage du raster à la résolution de référence\n",
    "                gdal.Warp(output_raster_path, raster, xRes=resolution_ref, yRes=resolution_ref, resampleAlg=\"bilinear\")\n",
    "\n",
    "            # Fermer le raster\n",
    "            raster = None\n",
    "\n",
    "\n",
    "chemin_dossier_rasters = \"C:/Users/diall/Downloads/datas/origine/CLC\"\n",
    "dossier_sortie_rasters = \"C:/Users/diall/Downloads/datas/origine/modif/CLC\"\n",
    "resolution_reference = 0.008333333\n",
    "\n",
    "resample_rasters(chemin_dossier_rasters, dossier_sortie_rasters, resolution_reference)"
   ]
  }
 ],
 "metadata": {
  "kernelspec": {
   "display_name": "Python 3",
   "language": "python",
   "name": "python3"
  },
  "language_info": {
   "codemirror_mode": {
    "name": "ipython",
    "version": 3
   },
   "file_extension": ".py",
   "mimetype": "text/x-python",
   "name": "python",
   "nbconvert_exporter": "python",
   "pygments_lexer": "ipython3",
   "version": "3.11.7"
  }
 },
 "nbformat": 4,
 "nbformat_minor": 2
}
