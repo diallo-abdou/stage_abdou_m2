{
  "nbformat": 4,
  "nbformat_minor": 0,
  "metadata": {
    "colab": {
      "provenance": [],
      "collapsed_sections": [
        "BCf5uQSMNXxk",
        "73JXpd80xjjJ",
        "GmE9KKPjzKDk",
        "dOaggDFaJTMB",
        "isfAp0DCRCEG",
        "Qjo5ee_tfZ1F"
      ]
    },
    "kernelspec": {
      "name": "ir",
      "display_name": "R"
    },
    "language_info": {
      "name": "R"
    }
  },
  "cells": [
    {
      "cell_type": "code",
      "execution_count": null,
      "metadata": {
        "id": "U2PyxLodSGs_"
      },
      "outputs": [],
      "source": [
        "# Liste des packages nécessaire\n",
        "packages <- c(\"keras\", \"mlbench\", \"dplyr\", \"magrittr\", \"neuralnet\", \"ggplot2\", \"reshape2\", \"tfruns\", \"randomForest\", \"tidyverse\")\n",
        "\n",
        "# Fonction pour vérifier et installer les packages\n",
        "install_missing_packages <- function(packages) {\n",
        "  for (pkg in packages) {\n",
        "    if (!requireNamespace(pkg, quietly = TRUE)) {\n",
        "      message(paste(\"Le package\", pkg, \"n'est pas installé. Installation en cours...\"))\n",
        "      install.packages(pkg, dependencies = TRUE)\n",
        "      #library(pkg)  # Charge le package\n",
        "    } else {\n",
        "      message(paste(\"Le package\", pkg, \"est déjà installé.\"))\n",
        "      #library(pkg)  # Charge le package\n",
        "    }\n",
        "  }\n",
        "}\n",
        "\n",
        "# Appel de la fonction\n",
        "install_missing_packages(packages)\n",
        "\n",
        "library( keras )\n",
        "library( mlbench )\n",
        "library( dplyr )\n",
        "library( magrittr )\n",
        "library( neuralnet )\n",
        "library( ggplot2 )\n",
        "library( reshape2 )\n",
        "library( tfruns )\n",
        "library( randomForest )\n",
        "library( tidyverse )\n"
      ]
    },
    {
      "cell_type": "markdown",
      "source": [
        "# ANN"
      ],
      "metadata": {
        "id": "BCf5uQSMNXxk"
      }
    },
    {
      "cell_type": "markdown",
      "source": [
        "## AB_tot"
      ],
      "metadata": {
        "id": "73JXpd80xjjJ"
      }
    },
    {
      "cell_type": "markdown",
      "source": [
        "### Import data"
      ],
      "metadata": {
        "id": "qsV0t_KbyEDJ"
      }
    },
    {
      "cell_type": "code",
      "source": [
        "# Data\n",
        "VAR_REP = \"AB_tot\"\n",
        "test = read.csv2(\"/content/AB_tot_test.csv\")\n",
        "training = read.csv2(\"/content/AB_tot_train.csv\")\n",
        "\n",
        "data = rbind(training,test)\n",
        "\n",
        "dim(data)\n"
      ],
      "metadata": {
        "id": "MeC8evn5UG0F",
        "colab": {
          "base_uri": "https://localhost:8080/",
          "height": 34
        },
        "outputId": "aab8edae-21b7-440a-fac8-9efa6b6a3755"
      },
      "execution_count": null,
      "outputs": [
        {
          "output_type": "display_data",
          "data": {
            "text/html": [
              "<style>\n",
              ".list-inline {list-style: none; margin:0; padding: 0}\n",
              ".list-inline>li {display: inline-block}\n",
              ".list-inline>li:not(:last-child)::after {content: \"\\00b7\"; padding: 0 .5ex}\n",
              "</style>\n",
              "<ol class=list-inline><li>3219</li><li>26</li></ol>\n"
            ],
            "text/markdown": "1. 3219\n2. 26\n\n\n",
            "text/latex": "\\begin{enumerate*}\n\\item 3219\n\\item 26\n\\end{enumerate*}\n",
            "text/plain": [
              "[1] 3219   26"
            ]
          },
          "metadata": {}
        }
      ]
    },
    {
      "cell_type": "markdown",
      "source": [
        "### Data preparation"
      ],
      "metadata": {
        "id": "DG0sf5O6yH0M"
      }
    },
    {
      "cell_type": "code",
      "source": [
        "\n",
        "ind_var_rep <- which(names(training) == VAR_REP)\n",
        "trainingtarget <- training[, ind_var_rep]\n",
        "trainingtarget = sqrt(trainingtarget)\n",
        "# trainingtarget = round(trainingtarget/25)\n",
        "training = training[,-ind_var_rep]\n",
        "\n",
        "\n",
        "\n",
        "ind_var_rep <- which(names(test) == VAR_REP)\n",
        "testtarget <- test[, ind_var_rep]\n",
        "testtarget = sqrt(testtarget)\n",
        "# testtarget = round(testtarget/25)\n",
        "test = test[,-ind_var_rep]\n",
        "\n",
        "\n",
        "\n",
        "# Matrix\n",
        "training %<>% mutate_if(is.factor, as.numeric)\n",
        "training <- as.matrix(training)\n",
        "dimnames(training) <- NULL\n",
        "\n",
        "test %<>% mutate_if(is.factor, as.numeric)\n",
        "test <- as.matrix(test)\n",
        "dimnames(test) <- NULL\n",
        "\n",
        "\n",
        "# Normalize\n",
        "m <- colMeans(training)\n",
        "s <- apply(training, 2, sd)\n",
        "training <- scale(training, center = m, scale = s)\n",
        "test <- scale(test, center = m, scale = s)"
      ],
      "metadata": {
        "id": "xsgB2ZSnYPYf"
      },
      "execution_count": null,
      "outputs": []
    },
    {
      "cell_type": "markdown",
      "source": [
        "### Default model"
      ],
      "metadata": {
        "id": "Cea9wY9bYtRa"
      }
    },
    {
      "cell_type": "code",
      "source": [
        "# Create Model : ANN_1 ----------------------------------------------------\n",
        "ANN_1 <- keras_model_sequential()\n",
        "ANN_1 %>%\n",
        "  layer_dense(units = 5, activation = 'relu', input_shape = c(25)) %>%\n",
        "  layer_dense(units = 1)\n",
        "\n",
        "# Compile\n",
        "ANN_1 %>% compile(loss = 'mse',\n",
        "                  optimizer = 'rmsprop',\n",
        "                  metrics = 'mae')\n",
        "summary(ANN_1)\n",
        "\n",
        "# Fit ANN_1\n",
        "myANN_1 <- ANN_1 %>%\n",
        "  fit(training,\n",
        "      trainingtarget,\n",
        "      epochs = 100,\n",
        "      #batch_size = 1,\n",
        "      validation_split = 0.2)\n",
        "plot(myANN_1)\n",
        "\n",
        "# Evaluate\n",
        "ANN_1 %>% evaluate(test, testtarget)\n",
        "ANN_1_pred <- ANN_1 %>% predict(test)\n",
        "ANN_1_mse = mean((testtarget-ANN_1_pred)^2) # loss -> mse\n",
        "ANN_1_mae =mean(abs(ANN_1_pred - testtarget),na.rm=TRUE) # MAE\n",
        "ANN_1_rmse =sqrt(mean((testtarget - ANN_1_pred)^2,na.rm=TRUE)) # rmse\n",
        "SSR <- sum((ANN_1_pred - testtarget) ^ 2,na.rm=TRUE)\n",
        "SST <- sum((testtarget - mean(testtarget)) ^ 2)\n",
        "ANN_1_rsquare = 1 - (SSR / SST) # r_adj <-\n",
        "ANN_1_plot_cor = plot(testtarget, ANN_1_pred,main=\"ANN_1\")\n",
        "ANN_1_cor = cor(testtarget,ANN_1_pred)^2\n",
        "ANN_1_results = data.frame(model = \"ANN_1\",mse = ANN_1_mse, mae = ANN_1_mae,\n",
        "                            rmse = ANN_1_rmse, r_square =ANN_1_rsquare, cor_pred_obs= ANN_1_cor)\n",
        "ANN_1_results"
      ],
      "metadata": {
        "id": "QTGm_DaoYvNP"
      },
      "execution_count": null,
      "outputs": []
    },
    {
      "cell_type": "markdown",
      "source": [
        "### Tuning"
      ],
      "metadata": {
        "id": "O59FTkaNbmEj"
      }
    },
    {
      "cell_type": "code",
      "source": [
        "# Hyperparameter tuning ---------------------------------------------------\n",
        "\n",
        "runs <- tuning_run(\"/content/Experiment.R\",\n",
        "                   flags = list(dense_units1 = c(32, 64),\n",
        "                                dense_units2 = c(16, 32),\n",
        "                                dense_units3 = c(8, 16),\n",
        "                                dense_units4 = c(4, 8),\n",
        "                                dropout1 = c(0.4, 0.5),\n",
        "                                dropout1 = c(0.3, 0.4),\n",
        "                                dropout1 = c(0.2, 0.3),\n",
        "                                dropout1 = c(0.1, 0.2),\n",
        "                                batch_size = c(32, 64)))\n",
        "\n",
        "\n",
        "save_runs = runs\n",
        "write.csv2(x =save_runs,file = paste0(\"/content/\", VAR_REP, \"_runs.csv\"), row.names = FALSE)"
      ],
      "metadata": {
        "id": "OvLROUmRYsCH"
      },
      "execution_count": null,
      "outputs": []
    },
    {
      "cell_type": "code",
      "source": [],
      "metadata": {
        "id": "Ta83Oia0rT0-"
      },
      "execution_count": null,
      "outputs": []
    },
    {
      "cell_type": "markdown",
      "source": [
        "## BM_tot"
      ],
      "metadata": {
        "id": "5FSBozKtxrYa"
      }
    },
    {
      "cell_type": "markdown",
      "source": [
        "### Import data"
      ],
      "metadata": {
        "id": "GmE9KKPjzKDk"
      }
    },
    {
      "cell_type": "code",
      "source": [
        "# Data\n",
        "VAR_REP = \"BM_tot\"\n",
        "test = read.csv2(\"/content/BM_tot_test.csv\")\n",
        "training = read.csv2(\"/content/BM_tot_train.csv\")\n",
        "\n",
        "data = rbind(training,test)\n",
        "\n",
        "dim(data)"
      ],
      "metadata": {
        "colab": {
          "base_uri": "https://localhost:8080/",
          "height": 193
        },
        "id": "GLmK87Cyxy-r",
        "outputId": "e01e74ce-ad07-45ff-fb8c-99ceffc07666"
      },
      "execution_count": null,
      "outputs": [
        {
          "output_type": "stream",
          "name": "stderr",
          "text": [
            "Warning message in file(file, \"rt\"):\n",
            "“cannot open file '/content/BM_tot_test.csv': No such file or directory”\n"
          ]
        },
        {
          "output_type": "error",
          "ename": "ERROR",
          "evalue": "Error in file(file, \"rt\"): cannot open the connection\n",
          "traceback": [
            "Error in file(file, \"rt\"): cannot open the connection\nTraceback:\n",
            "1. read.csv2(\"/content/BM_tot_test.csv\")",
            "2. read.table(file = file, header = header, sep = sep, quote = quote, \n .     dec = dec, fill = fill, comment.char = comment.char, ...)",
            "3. file(file, \"rt\")"
          ]
        }
      ]
    },
    {
      "cell_type": "markdown",
      "source": [
        "### Data preparation"
      ],
      "metadata": {
        "id": "AmGM0CSFzRr0"
      }
    },
    {
      "cell_type": "code",
      "source": [
        "ind_var_rep <- which(names(training) == VAR_REP)\n",
        "trainingtarget <- training[, ind_var_rep]\n",
        "trainingtarget = sqrt(trainingtarget)\n",
        "# trainingtarget = round(trainingtarget/25)\n",
        "training = training[,-ind_var_rep]\n",
        "\n",
        "\n",
        "\n",
        "ind_var_rep <- which(names(test) == VAR_REP)\n",
        "testtarget <- test[, ind_var_rep]\n",
        "testtarget = sqrt(testtarget)\n",
        "# testtarget = round(testtarget/25)\n",
        "test = test[,-ind_var_rep]\n",
        "\n",
        "\n",
        "\n",
        "# Matrix\n",
        "training %<>% mutate_if(is.factor, as.numeric)\n",
        "training <- as.matrix(training)\n",
        "dimnames(training) <- NULL\n",
        "\n",
        "test %<>% mutate_if(is.factor, as.numeric)\n",
        "test <- as.matrix(test)\n",
        "dimnames(test) <- NULL\n",
        "\n",
        "\n",
        "# Normalize\n",
        "m <- colMeans(training)\n",
        "s <- apply(training, 2, sd)\n",
        "training <- scale(training, center = m, scale = s)\n",
        "test <- scale(test, center = m, scale = s)"
      ],
      "metadata": {
        "id": "viU3EROVzUF_"
      },
      "execution_count": null,
      "outputs": []
    },
    {
      "cell_type": "markdown",
      "source": [
        "### Default model"
      ],
      "metadata": {
        "id": "wS7e4tyZzapP"
      }
    },
    {
      "cell_type": "code",
      "source": [
        "# Create Model : ANN_1 ----------------------------------------------------\n",
        "ANN_1 <- keras_model_sequential()\n",
        "ANN_1 %>%\n",
        "  layer_dense(units = 5, activation = 'relu', input_shape = c(25)) %>%\n",
        "  layer_dense(units = 1)\n",
        "\n",
        "# Compile\n",
        "ANN_1 %>% compile(loss = 'mse',\n",
        "                  optimizer = 'rmsprop',\n",
        "                  metrics = 'mae')\n",
        "summary(ANN_1)\n",
        "\n",
        "# Fit ANN_1\n",
        "myANN_1 <- ANN_1 %>%\n",
        "  fit(training,\n",
        "      trainingtarget,\n",
        "      epochs = 100,\n",
        "      #batch_size = 1,\n",
        "      validation_split = 0.2)\n",
        "plot(myANN_1)\n",
        "\n",
        "# Evaluate\n",
        "ANN_1 %>% evaluate(test, testtarget)\n",
        "ANN_1_pred <- ANN_1 %>% predict(test)\n",
        "ANN_1_mse = mean((testtarget-ANN_1_pred)^2) # loss -> mse\n",
        "ANN_1_mae =mean(abs(ANN_1_pred - testtarget),na.rm=TRUE) # MAE\n",
        "ANN_1_rmse =sqrt(mean((testtarget - ANN_1_pred)^2,na.rm=TRUE)) # rmse\n",
        "SSR <- sum((ANN_1_pred - testtarget) ^ 2,na.rm=TRUE)\n",
        "SST <- sum((testtarget - mean(testtarget)) ^ 2)\n",
        "ANN_1_rsquare = 1 - (SSR / SST) # r_adj <-\n",
        "ANN_1_plot_cor = plot(testtarget, ANN_1_pred,main=\"ANN_1\")\n",
        "ANN_1_cor = cor(testtarget,ANN_1_pred)^2\n",
        "ANN_1_results = data.frame(model = \"ANN_1\",mse = ANN_1_mse, mae = ANN_1_mae,\n",
        "                            rmse = ANN_1_rmse, r_square =ANN_1_rsquare, cor_pred_obs= ANN_1_cor)\n",
        "ANN_1_results"
      ],
      "metadata": {
        "id": "yqmJAPGezcoU"
      },
      "execution_count": null,
      "outputs": []
    },
    {
      "cell_type": "markdown",
      "source": [
        "### Tuning"
      ],
      "metadata": {
        "id": "z5GVMKl4zu-h"
      }
    },
    {
      "cell_type": "code",
      "source": [
        "VAR_REP"
      ],
      "metadata": {
        "id": "hQXkzA5R0SnD"
      },
      "execution_count": null,
      "outputs": []
    },
    {
      "cell_type": "code",
      "source": [
        "# Hyperparameter tuning ---------------------------------------------------\n",
        "\n",
        "runs_bm_tot <- tuning_run(\"/content/Experiment.R\",\n",
        "                   flags = list(dense_units1 = c(32, 64),\n",
        "                                dense_units2 = c(16, 32),\n",
        "                                dense_units3 = c(8, 16),\n",
        "                                dense_units4 = c(4, 8),\n",
        "                                dropout1 = c(0.4, 0.5),\n",
        "                                dropout1 = c(0.3, 0.4),\n",
        "                                dropout1 = c(0.2, 0.3),\n",
        "                                dropout1 = c(0.1, 0.2),\n",
        "                                batch_size = c(32, 64)))\n",
        "\n",
        "\n",
        "save_runs_bm_tot = runs_bm_tot\n",
        "write.csv2(x =save_runs_bm_tot,file = paste0(\"/content/\", VAR_REP, \"_runs.csv\"), row.names = FALSE)"
      ],
      "metadata": {
        "id": "h0xSd77zzyNJ"
      },
      "execution_count": null,
      "outputs": []
    },
    {
      "cell_type": "markdown",
      "source": [
        "## Richesse_tot"
      ],
      "metadata": {
        "id": "dOaggDFaJTMB"
      }
    },
    {
      "cell_type": "code",
      "source": [
        "# Data\n",
        "VAR_REP = \"Richesse_tot\"\n",
        "test = read.csv2(\"/content/Richesse_tot_test.csv\")\n",
        "training = read.csv2(\"/content/Richesse_tot_train.csv\")\n",
        "\n",
        "data = rbind(training,test)\n",
        "\n",
        "dim(data)"
      ],
      "metadata": {
        "colab": {
          "base_uri": "https://localhost:8080/",
          "height": 34
        },
        "id": "RF7WthsIJW-f",
        "outputId": "6b30bb9d-5a57-4dc2-ba6c-1dec38587a7b"
      },
      "execution_count": null,
      "outputs": [
        {
          "output_type": "display_data",
          "data": {
            "text/html": [
              "<style>\n",
              ".list-inline {list-style: none; margin:0; padding: 0}\n",
              ".list-inline>li {display: inline-block}\n",
              ".list-inline>li:not(:last-child)::after {content: \"\\00b7\"; padding: 0 .5ex}\n",
              "</style>\n",
              "<ol class=list-inline><li>3268</li><li>26</li></ol>\n"
            ],
            "text/markdown": "1. 3268\n2. 26\n\n\n",
            "text/latex": "\\begin{enumerate*}\n\\item 3268\n\\item 26\n\\end{enumerate*}\n",
            "text/plain": [
              "[1] 3268   26"
            ]
          },
          "metadata": {}
        }
      ]
    },
    {
      "cell_type": "markdown",
      "source": [
        "### Data preparartion"
      ],
      "metadata": {
        "id": "Ad5JI8XmJk2G"
      }
    },
    {
      "cell_type": "code",
      "source": [
        "ind_var_rep <- which(names(training) == VAR_REP)\n",
        "trainingtarget <- training[, ind_var_rep]\n",
        "#trainingtarget = sqrt(trainingtarget)\n",
        "# trainingtarget = round(trainingtarget/25)\n",
        "training = training[,-ind_var_rep]\n",
        "\n",
        "\n",
        "\n",
        "ind_var_rep <- which(names(test) == VAR_REP)\n",
        "testtarget <- test[, ind_var_rep]\n",
        "#testtarget = sqrt(testtarget)\n",
        "# testtarget = round(testtarget/25)\n",
        "test = test[,-ind_var_rep]\n",
        "\n",
        "\n",
        "\n",
        "# Matrix\n",
        "training %<>% mutate_if(is.factor, as.numeric)\n",
        "training <- as.matrix(training)\n",
        "dimnames(training) <- NULL\n",
        "\n",
        "test %<>% mutate_if(is.factor, as.numeric)\n",
        "test <- as.matrix(test)\n",
        "dimnames(test) <- NULL\n",
        "\n",
        "\n",
        "# Normalize\n",
        "m <- colMeans(training)\n",
        "s <- apply(training, 2, sd)\n",
        "training <- scale(training, center = m, scale = s)\n",
        "test <- scale(test, center = m, scale = s)"
      ],
      "metadata": {
        "id": "JuRxWPCZJqxy"
      },
      "execution_count": null,
      "outputs": []
    },
    {
      "cell_type": "markdown",
      "source": [
        "### Default model"
      ],
      "metadata": {
        "id": "gpDVNZWcJxIt"
      }
    },
    {
      "cell_type": "code",
      "source": [
        "# Create Model : ANN_1 ----------------------------------------------------\n",
        "ANN_1 <- keras_model_sequential()\n",
        "ANN_1 %>%\n",
        "  layer_dense(units = 5, activation = 'relu', input_shape = c(25)) %>%\n",
        "  layer_dense(units = 1)\n",
        "\n",
        "# Compile\n",
        "ANN_1 %>% compile(loss = 'mse',\n",
        "                  optimizer = 'rmsprop',\n",
        "                  metrics = 'mae')\n",
        "summary(ANN_1)\n",
        "\n",
        "# Fit ANN_1\n",
        "myANN_1 <- ANN_1 %>%\n",
        "  fit(training,\n",
        "      trainingtarget,\n",
        "      epochs = 100,\n",
        "      #batch_size = 1,\n",
        "      validation_split = 0.2)\n",
        "plot(myANN_1)\n",
        "\n",
        "# Evaluate\n",
        "ANN_1 %>% evaluate(test, testtarget)\n",
        "ANN_1_pred <- ANN_1 %>% predict(test)\n",
        "ANN_1_mse = mean((testtarget-ANN_1_pred)^2) # loss -> mse\n",
        "ANN_1_mae =mean(abs(ANN_1_pred - testtarget),na.rm=TRUE) # MAE\n",
        "ANN_1_rmse =sqrt(mean((testtarget - ANN_1_pred)^2,na.rm=TRUE)) # rmse\n",
        "SSR <- sum((ANN_1_pred - testtarget) ^ 2,na.rm=TRUE)\n",
        "SST <- sum((testtarget - mean(testtarget)) ^ 2)\n",
        "ANN_1_rsquare = 1 - (SSR / SST) # r_adj <-\n",
        "ANN_1_plot_cor = plot(testtarget, ANN_1_pred,main=\"ANN_1\")\n",
        "ANN_1_cor = cor(testtarget,ANN_1_pred)^2\n",
        "ANN_1_results = data.frame(model = \"ANN_1\",mse = ANN_1_mse, mae = ANN_1_mae,\n",
        "                            rmse = ANN_1_rmse, r_square =ANN_1_rsquare, cor_pred_obs= ANN_1_cor)\n",
        "ANN_1_results"
      ],
      "metadata": {
        "id": "hNyjsYQPJ0DD"
      },
      "execution_count": null,
      "outputs": []
    },
    {
      "cell_type": "markdown",
      "source": [
        "### Tuning"
      ],
      "metadata": {
        "id": "eWWgsArEJ7Ys"
      }
    },
    {
      "cell_type": "code",
      "source": [
        "VAR_REP"
      ],
      "metadata": {
        "colab": {
          "base_uri": "https://localhost:8080/",
          "height": 34
        },
        "id": "7fCg8urOJ9bz",
        "outputId": "6d84d424-34db-449a-8a58-2d973d50a081"
      },
      "execution_count": null,
      "outputs": [
        {
          "output_type": "display_data",
          "data": {
            "text/html": [
              "'Richesse_tot'"
            ],
            "text/markdown": "'Richesse_tot'",
            "text/latex": "'Richesse\\_tot'",
            "text/plain": [
              "[1] \"Richesse_tot\""
            ]
          },
          "metadata": {}
        }
      ]
    },
    {
      "cell_type": "code",
      "source": [
        "# Hyperparameter tuning ---------------------------------------------------\n",
        "\n",
        "runs_rich_tot <- tuning_run(\"/content/Experiment.R\",\n",
        "                   flags = list(dense_units1 = c(32, 64),\n",
        "                                dense_units2 = c(16, 32),\n",
        "                                dense_units3 = c(8, 16),\n",
        "                                dense_units4 = c(4, 8),\n",
        "                                dropout1 = c(0.4, 0.5),\n",
        "                                dropout1 = c(0.3, 0.4),\n",
        "                                dropout1 = c(0.2, 0.3),\n",
        "                                dropout1 = c(0.1, 0.2),\n",
        "                                batch_size = c(32, 64)))\n",
        "\n",
        "\n",
        "save_runs_rich_tot = runs_rich_tot\n",
        "write.csv2(x =save_runs_rich_tot,file = paste0(\"/content/\", VAR_REP, \"_runs.csv\"), row.names = FALSE)"
      ],
      "metadata": {
        "id": "lT7FNJKEJ_iO"
      },
      "execution_count": null,
      "outputs": []
    },
    {
      "cell_type": "markdown",
      "source": [
        "# RF"
      ],
      "metadata": {
        "id": "NknBvGB35MTR"
      }
    },
    {
      "cell_type": "code",
      "source": [
        "ForetAlea <- function(var_rep, df_app, df_valid,mtry,ntree,maxnodes){\n",
        "\n",
        "\n",
        "  col_posi <- which(names(df_app) == var_rep)\n",
        "  ForeVDT <- randomForest::randomForest(df_app[-col_posi], df_app[[col_posi]], mtry=mtry,\n",
        "                          ntree=ntree,maxnodes=maxnodes)\n",
        "\n",
        "  # Prediction sur le jeu de validation\n",
        "  col_posi <- which(names(df_valid) == var_rep)\n",
        "  pred.RF<-predict(ForeVDT,newdata=df_valid[,-col_posi])\n",
        "\n",
        "  # Calcul du RMSE pour évaluer la qualité du modele\n",
        "  rmse <- sqrt(mean((df_valid[,col_posi] - pred.RF)^2))\n",
        "\n",
        "  # calcule du R-squared\n",
        "  r_adj = cor(df_valid[,col_posi],pred.RF)^2\n",
        "\n",
        "  # calcule MAE\n",
        "  MAE <- mean(abs(pred.RF - df_valid[,col_posi]))\n",
        "\n",
        "  results <- list(RMSE = rmse, R_squared= r_adj,MAE = MAE, model=ForeVDT)\n",
        "\n",
        "\n",
        "  return(results)\n",
        "}\n",
        "\n",
        "# Grille de hyperparametisation\n",
        "RF_df_grid <- expand.grid(ntree = c(100,300,500,700,900,1000,1300,1500,1700,2000),\n",
        "                       mtry = c(2, 4, 6, 8, 10, 12, 14, 16, 18, 20, 22, 24),\n",
        "                       nodesize = c(10 , 20,  30,  40,  50,  60,  70,  80))\n",
        "nrow(RF_df_grid)"
      ],
      "metadata": {
        "colab": {
          "base_uri": "https://localhost:8080/",
          "height": 34
        },
        "id": "is93AN1JRr3O",
        "outputId": "3707bac8-5951-49db-8dba-9e55213f0c2b"
      },
      "execution_count": 22,
      "outputs": [
        {
          "output_type": "display_data",
          "data": {
            "text/html": [
              "960"
            ],
            "text/markdown": "960",
            "text/latex": "960",
            "text/plain": [
              "[1] 960"
            ]
          },
          "metadata": {}
        }
      ]
    },
    {
      "cell_type": "markdown",
      "source": [
        "## AB_tot"
      ],
      "metadata": {
        "id": "isfAp0DCRCEG"
      }
    },
    {
      "cell_type": "markdown",
      "source": [
        "### Import data"
      ],
      "metadata": {
        "id": "2o2rvSBlRQ6_"
      }
    },
    {
      "cell_type": "code",
      "source": [
        "\n",
        "# Data\n",
        "var_rep = \"AB_tot\"\n",
        "\n",
        "df_app = read.csv2(\"/content/AB_tot_train.csv\")\n",
        "df_valid = read.csv2(\"/content/AB_tot_test.csv\")\n",
        "\n",
        "data = rbind(df_app,df_valid)\n",
        "\n",
        "dim(data)\n",
        "\n"
      ],
      "metadata": {
        "colab": {
          "base_uri": "https://localhost:8080/",
          "height": 34
        },
        "id": "vR0e18ujRG4a",
        "outputId": "5931f5a5-cf2a-43be-ed2c-2d2ecbad5fd2"
      },
      "execution_count": 23,
      "outputs": [
        {
          "output_type": "display_data",
          "data": {
            "text/html": [
              "<style>\n",
              ".list-inline {list-style: none; margin:0; padding: 0}\n",
              ".list-inline>li {display: inline-block}\n",
              ".list-inline>li:not(:last-child)::after {content: \"\\00b7\"; padding: 0 .5ex}\n",
              "</style>\n",
              "<ol class=list-inline><li>3219</li><li>26</li></ol>\n"
            ],
            "text/markdown": "1. 3219\n2. 26\n\n\n",
            "text/latex": "\\begin{enumerate*}\n\\item 3219\n\\item 26\n\\end{enumerate*}\n",
            "text/plain": [
              "[1] 3219   26"
            ]
          },
          "metadata": {}
        }
      ]
    },
    {
      "cell_type": "markdown",
      "source": [
        "### Data preparation"
      ],
      "metadata": {
        "id": "5NJRmGiKR4tV"
      }
    },
    {
      "cell_type": "code",
      "source": [
        "# str(df_app)\n",
        "# str(df_valid)\n",
        "\n",
        "ind_var_rep <- which(names(df_app) == var_rep)\n",
        "trainingtarget <- df_app[, ind_var_rep]\n",
        "trainingtarget = sqrt(trainingtarget)\n",
        "training = df_app[,-ind_var_rep]\n",
        "training[,1:19] = scale(training [,1:19])\n",
        "df_app = cbind(trainingtarget,training)\n",
        "colnames(df_app)[ind_var_rep] <- var_rep\n",
        "df_app = as.data.frame(df_app)\n",
        "\n",
        "ind_var_rep <- which(names(df_valid) == var_rep)\n",
        "testtarget <- df_valid[, ind_var_rep]\n",
        "testtarget <- sqrt(testtarget)\n",
        "test = df_valid[,-ind_var_rep]\n",
        "test[,1:19] = scale(test[,1:19])\n",
        "df_valid = cbind(testtarget,test)\n",
        "colnames(df_valid)[ind_var_rep] <- var_rep\n",
        "df_valid = as.data.frame(df_valid)\n",
        "\n",
        "# str(df_app)\n",
        "# str(df_valid)\n",
        "\n",
        "df_app = as.data.frame(df_app)\n",
        "df_valid = as.data.frame(df_valid)\n",
        "\n",
        "dim(df_app)\n",
        "dim(df_valid)"
      ],
      "metadata": {
        "colab": {
          "base_uri": "https://localhost:8080/",
          "height": 52
        },
        "id": "w8fB3JHUR82s",
        "outputId": "cafa0aa0-48f1-4c9e-9e6f-dadeddd9345b"
      },
      "execution_count": 24,
      "outputs": [
        {
          "output_type": "display_data",
          "data": {
            "text/html": [
              "<style>\n",
              ".list-inline {list-style: none; margin:0; padding: 0}\n",
              ".list-inline>li {display: inline-block}\n",
              ".list-inline>li:not(:last-child)::after {content: \"\\00b7\"; padding: 0 .5ex}\n",
              "</style>\n",
              "<ol class=list-inline><li>2353</li><li>26</li></ol>\n"
            ],
            "text/markdown": "1. 2353\n2. 26\n\n\n",
            "text/latex": "\\begin{enumerate*}\n\\item 2353\n\\item 26\n\\end{enumerate*}\n",
            "text/plain": [
              "[1] 2353   26"
            ]
          },
          "metadata": {}
        },
        {
          "output_type": "display_data",
          "data": {
            "text/html": [
              "<style>\n",
              ".list-inline {list-style: none; margin:0; padding: 0}\n",
              ".list-inline>li {display: inline-block}\n",
              ".list-inline>li:not(:last-child)::after {content: \"\\00b7\"; padding: 0 .5ex}\n",
              "</style>\n",
              "<ol class=list-inline><li>866</li><li>26</li></ol>\n"
            ],
            "text/markdown": "1. 866\n2. 26\n\n\n",
            "text/latex": "\\begin{enumerate*}\n\\item 866\n\\item 26\n\\end{enumerate*}\n",
            "text/plain": [
              "[1] 866  26"
            ]
          },
          "metadata": {}
        }
      ]
    },
    {
      "cell_type": "markdown",
      "source": [
        "### Tuning"
      ],
      "metadata": {
        "id": "IRMpEwMCSPCl"
      }
    },
    {
      "cell_type": "code",
      "source": [
        "temps1 = Sys.time()\n",
        "# le df result tot\n",
        "RF_tune_AB_tot <- data.frame(mtry = numeric(),\n",
        "                             ntree = numeric(),\n",
        "                             maxnodes = numeric(),\n",
        "                             rmse = numeric(),\n",
        "                             r_squared = numeric(),\n",
        "                             mae = numeric())\n",
        "\n",
        "# Utilisation lapply pour appliquer ForetAlea à chaque combinaison\n",
        "results_list <- lapply(1:nrow(RF_df_grid), function(i) {\n",
        "  mtry <- RF_df_grid[i, \"mtry\"]\n",
        "  ntree <- RF_df_grid[i, \"ntree\"]\n",
        "  maxnodes <- RF_df_grid[i, \"nodesize\"]\n",
        "\n",
        "  res <- ForetAlea(var_rep, df_app, df_valid,\n",
        "                   mtry = mtry, ntree = ntree, maxnodes = maxnodes)\n",
        "\n",
        "  res_df = data.frame(mtry = mtry,\n",
        "             ntree = ntree,\n",
        "             maxnodes = maxnodes,\n",
        "             rmse = res$RMSE,\n",
        "             r_squared = res$R_squared,\n",
        "             mae = res$MAE)\n",
        "  cat(i,\"/\",nrow(RF_df_grid),\"; \")\n",
        "\n",
        "  res_df\n",
        "})\n",
        "\n",
        "# les résultats en un seul data frame\n",
        "RF_tune_AB_tot <- do.call(rbind, results_list)\n",
        "\n",
        "temps2 = Sys.time()\n",
        "duree = difftime(temps2,temps1)\n",
        "duree\n",
        "\n",
        "write.csv2(x =RF_tune_AB_tot,file = paste0(\"/content/\", var_rep, \"_RF_tuning.csv\"), row.names = FALSE)\n"
      ],
      "metadata": {
        "id": "ess3Pwr5SRq3"
      },
      "execution_count": null,
      "outputs": []
    },
    {
      "cell_type": "markdown",
      "source": [
        "## BM_tot"
      ],
      "metadata": {
        "id": "Qjo5ee_tfZ1F"
      }
    },
    {
      "cell_type": "markdown",
      "source": [
        "### Import data"
      ],
      "metadata": {
        "id": "mGLrKPqJfb9u"
      }
    },
    {
      "cell_type": "code",
      "source": [
        "# Data\n",
        "var_rep = \"BM_tot\"\n",
        "\n",
        "df_app = read.csv2(\"/content/BM_tot_train.csv\")\n",
        "df_valid = read.csv2(\"/content/BM_tot_test.csv\")\n",
        "\n",
        "data = rbind(df_app,df_valid)\n",
        "\n",
        "dim(data)"
      ],
      "metadata": {
        "colab": {
          "base_uri": "https://localhost:8080/",
          "height": 34
        },
        "id": "8rCXypk0ft0V",
        "outputId": "114aa95c-bae1-4b81-fb4b-d5aa7c71899b"
      },
      "execution_count": 29,
      "outputs": [
        {
          "output_type": "display_data",
          "data": {
            "text/html": [
              "<style>\n",
              ".list-inline {list-style: none; margin:0; padding: 0}\n",
              ".list-inline>li {display: inline-block}\n",
              ".list-inline>li:not(:last-child)::after {content: \"\\00b7\"; padding: 0 .5ex}\n",
              "</style>\n",
              "<ol class=list-inline><li>1654</li><li>26</li></ol>\n"
            ],
            "text/markdown": "1. 1654\n2. 26\n\n\n",
            "text/latex": "\\begin{enumerate*}\n\\item 1654\n\\item 26\n\\end{enumerate*}\n",
            "text/plain": [
              "[1] 1654   26"
            ]
          },
          "metadata": {}
        }
      ]
    },
    {
      "cell_type": "markdown",
      "source": [
        "### Data preparation"
      ],
      "metadata": {
        "id": "a2XLXO8Jf59X"
      }
    },
    {
      "cell_type": "code",
      "source": [
        "# str(df_app)\n",
        "# str(df_valid)\n",
        "\n",
        "ind_var_rep <- which(names(df_app) == var_rep)\n",
        "trainingtarget <- df_app[, ind_var_rep]\n",
        "trainingtarget = sqrt(trainingtarget)\n",
        "training = df_app[,-ind_var_rep]\n",
        "training[,1:19] = scale(training [,1:19])\n",
        "df_app = cbind(trainingtarget,training)\n",
        "colnames(df_app)[ind_var_rep] <- var_rep\n",
        "df_app = as.data.frame(df_app)\n",
        "\n",
        "ind_var_rep <- which(names(df_valid) == var_rep)\n",
        "testtarget <- df_valid[, ind_var_rep]\n",
        "testtarget <- sqrt(testtarget)\n",
        "test = df_valid[,-ind_var_rep]\n",
        "test[,1:19] = scale(test[,1:19])\n",
        "df_valid = cbind(testtarget,test)\n",
        "colnames(df_valid)[ind_var_rep] <- var_rep\n",
        "df_valid = as.data.frame(df_valid)\n",
        "\n",
        "# str(df_app)\n",
        "# str(df_valid)\n",
        "\n",
        "df_app = as.data.frame(df_app)\n",
        "df_valid = as.data.frame(df_valid)\n",
        "\n",
        "dim(df_app)\n",
        "dim(df_valid)"
      ],
      "metadata": {
        "colab": {
          "base_uri": "https://localhost:8080/",
          "height": 52
        },
        "id": "wXuXOUsQf9gY",
        "outputId": "b13f59f9-9669-4afb-a281-e757969ac676"
      },
      "execution_count": 30,
      "outputs": [
        {
          "output_type": "display_data",
          "data": {
            "text/html": [
              "<style>\n",
              ".list-inline {list-style: none; margin:0; padding: 0}\n",
              ".list-inline>li {display: inline-block}\n",
              ".list-inline>li:not(:last-child)::after {content: \"\\00b7\"; padding: 0 .5ex}\n",
              "</style>\n",
              "<ol class=list-inline><li>1212</li><li>26</li></ol>\n"
            ],
            "text/markdown": "1. 1212\n2. 26\n\n\n",
            "text/latex": "\\begin{enumerate*}\n\\item 1212\n\\item 26\n\\end{enumerate*}\n",
            "text/plain": [
              "[1] 1212   26"
            ]
          },
          "metadata": {}
        },
        {
          "output_type": "display_data",
          "data": {
            "text/html": [
              "<style>\n",
              ".list-inline {list-style: none; margin:0; padding: 0}\n",
              ".list-inline>li {display: inline-block}\n",
              ".list-inline>li:not(:last-child)::after {content: \"\\00b7\"; padding: 0 .5ex}\n",
              "</style>\n",
              "<ol class=list-inline><li>442</li><li>26</li></ol>\n"
            ],
            "text/markdown": "1. 442\n2. 26\n\n\n",
            "text/latex": "\\begin{enumerate*}\n\\item 442\n\\item 26\n\\end{enumerate*}\n",
            "text/plain": [
              "[1] 442  26"
            ]
          },
          "metadata": {}
        }
      ]
    },
    {
      "cell_type": "markdown",
      "source": [
        "### Tuning"
      ],
      "metadata": {
        "id": "-jIEMxPMgTXP"
      }
    },
    {
      "cell_type": "code",
      "source": [
        "temps1 = Sys.time()\n",
        "# le df result tot\n",
        "RF_tune_BM_tot <- data.frame(mtry = numeric(),\n",
        "                             ntree = numeric(),\n",
        "                             maxnodes = numeric(),\n",
        "                             rmse = numeric(),\n",
        "                             r_squared = numeric(),\n",
        "                             mae = numeric())\n",
        "\n",
        "# Utilisation lapply pour appliquer ForetAlea à chaque combinaison\n",
        "results_list <- lapply(1:nrow(RF_df_grid), function(i) {\n",
        "  mtry <- RF_df_grid[i, \"mtry\"]\n",
        "  ntree <- RF_df_grid[i, \"ntree\"]\n",
        "  maxnodes <- RF_df_grid[i, \"nodesize\"]\n",
        "\n",
        "  res <- ForetAlea(var_rep, df_app, df_valid,\n",
        "                   mtry = mtry, ntree = ntree, maxnodes = maxnodes)\n",
        "\n",
        "  res_df = data.frame(mtry = mtry,\n",
        "                      ntree = ntree,\n",
        "                      maxnodes = maxnodes,\n",
        "                      rmse = res$RMSE,\n",
        "                      r_squared = res$R_squared,\n",
        "                      mae = res$MAE)\n",
        "  cat(i,\"/\",nrow(RF_df_grid))\n",
        "\n",
        "  res_df\n",
        "})\n",
        "\n",
        "# les résultats en un seul data frame\n",
        "RF_tune_BM_tot <- do.call(rbind, results_list)\n",
        "\n",
        "temps2 = Sys.time()\n",
        "duree = difftime(temps2,temps1)\n",
        "duree\n",
        "\n",
        "write.csv2(x =RF_tune_BM_tot,file = paste0(\"/content/\", var_rep, \"_RF_tuning.csv\"), row.names = FALSE)"
      ],
      "metadata": {
        "colab": {
          "base_uri": "https://localhost:8080/",
          "height": 72
        },
        "id": "HPqXUce6gXd7",
        "outputId": "6a7b2f35-7b04-4b67-afd7-ee384e07a5ab"
      },
      "execution_count": 31,
      "outputs": [
        {
          "output_type": "stream",
          "name": "stdout",
          "text": [
            "1 / 9602 / 9603 / 9604 / 9605 / 9606 / 9607 / 9608 / 9609 / 96010 / 96011 / 96012 / 96013 / 96014 / 96015 / 96016 / 96017 / 96018 / 96019 / 96020 / 96021 / 96022 / 96023 / 96024 / 96025 / 96026 / 96027 / 96028 / 96029 / 96030 / 96031 / 96032 / 96033 / 96034 / 96035 / 96036 / 96037 / 96038 / 96039 / 96040 / 96041 / 96042 / 96043 / 96044 / 96045 / 96046 / 96047 / 96048 / 96049 / 96050 / 96051 / 96052 / 96053 / 96054 / 96055 / 96056 / 96057 / 96058 / 96059 / 96060 / 96061 / 96062 / 96063 / 96064 / 96065 / 96066 / 96067 / 96068 / 96069 / 96070 / 96071 / 96072 / 96073 / 96074 / 96075 / 96076 / 96077 / 96078 / 96079 / 96080 / 96081 / 96082 / 96083 / 96084 / 96085 / 96086 / 96087 / 96088 / 96089 / 96090 / 96091 / 96092 / 96093 / 96094 / 96095 / 96096 / 96097 / 96098 / 96099 / 960100 / 960101 / 960102 / 960103 / 960104 / 960105 / 960106 / 960107 / 960108 / 960109 / 960110 / 960111 / 960112 / 960113 / 960114 / 960115 / 960116 / 960117 / 960118 / 960119 / 960120 / 960121 / 960122 / 960123 / 960124 / 960125 / 960126 / 960127 / 960128 / 960129 / 960130 / 960131 / 960132 / 960133 / 960134 / 960135 / 960136 / 960137 / 960138 / 960139 / 960140 / 960141 / 960142 / 960143 / 960144 / 960145 / 960146 / 960147 / 960148 / 960149 / 960150 / 960151 / 960152 / 960153 / 960154 / 960155 / 960156 / 960157 / 960158 / 960159 / 960160 / 960161 / 960162 / 960163 / 960164 / 960165 / 960166 / 960167 / 960168 / 960169 / 960170 / 960171 / 960172 / 960173 / 960174 / 960175 / 960176 / 960177 / 960178 / 960179 / 960180 / 960181 / 960182 / 960183 / 960184 / 960185 / 960186 / 960187 / 960188 / 960189 / 960190 / 960191 / 960192 / 960193 / 960194 / 960195 / 960196 / 960197 / 960198 / 960199 / 960200 / 960201 / 960202 / 960203 / 960204 / 960205 / 960206 / 960207 / 960208 / 960209 / 960210 / 960211 / 960212 / 960213 / 960214 / 960215 / 960216 / 960217 / 960218 / 960219 / 960220 / 960221 / 960222 / 960223 / 960224 / 960225 / 960226 / 960227 / 960228 / 960229 / 960230 / 960231 / 960232 / 960233 / 960234 / 960235 / 960236 / 960237 / 960238 / 960239 / 960240 / 960241 / 960242 / 960243 / 960244 / 960245 / 960246 / 960247 / 960248 / 960249 / 960250 / 960251 / 960252 / 960253 / 960254 / 960255 / 960256 / 960257 / 960258 / 960259 / 960260 / 960261 / 960262 / 960263 / 960264 / 960265 / 960266 / 960267 / 960268 / 960269 / 960270 / 960271 / 960272 / 960273 / 960274 / 960275 / 960276 / 960277 / 960278 / 960279 / 960280 / 960281 / 960282 / 960283 / 960284 / 960285 / 960286 / 960287 / 960288 / 960289 / 960290 / 960291 / 960292 / 960293 / 960294 / 960295 / 960296 / 960297 / 960298 / 960299 / 960300 / 960301 / 960302 / 960303 / 960304 / 960305 / 960306 / 960307 / 960308 / 960309 / 960310 / 960311 / 960312 / 960313 / 960314 / 960315 / 960316 / 960317 / 960318 / 960319 / 960320 / 960321 / 960322 / 960323 / 960324 / 960325 / 960326 / 960327 / 960328 / 960329 / 960330 / 960331 / 960332 / 960333 / 960334 / 960335 / 960336 / 960337 / 960338 / 960339 / 960340 / 960341 / 960342 / 960343 / 960344 / 960345 / 960346 / 960347 / 960348 / 960349 / 960350 / 960351 / 960352 / 960353 / 960354 / 960355 / 960356 / 960357 / 960358 / 960359 / 960360 / 960361 / 960362 / 960363 / 960364 / 960365 / 960366 / 960367 / 960368 / 960369 / 960370 / 960371 / 960372 / 960373 / 960374 / 960375 / 960376 / 960377 / 960378 / 960379 / 960380 / 960381 / 960382 / 960383 / 960384 / 960385 / 960386 / 960387 / 960388 / 960389 / 960390 / 960391 / 960392 / 960393 / 960394 / 960395 / 960396 / 960397 / 960398 / 960399 / 960400 / 960401 / 960402 / 960403 / 960404 / 960405 / 960406 / 960407 / 960408 / 960409 / 960410 / 960411 / 960412 / 960413 / 960414 / 960415 / 960416 / 960417 / 960418 / 960419 / 960420 / 960421 / 960422 / 960423 / 960424 / 960425 / 960426 / 960427 / 960428 / 960429 / 960430 / 960431 / 960432 / 960433 / 960434 / 960435 / 960436 / 960437 / 960438 / 960439 / 960440 / 960441 / 960442 / 960443 / 960444 / 960445 / 960446 / 960447 / 960448 / 960449 / 960450 / 960451 / 960452 / 960453 / 960454 / 960455 / 960456 / 960457 / 960458 / 960459 / 960460 / 960461 / 960462 / 960463 / 960464 / 960465 / 960466 / 960467 / 960468 / 960469 / 960470 / 960471 / 960472 / 960473 / 960474 / 960475 / 960476 / 960477 / 960478 / 960479 / 960480 / 960481 / 960482 / 960483 / 960484 / 960485 / 960486 / 960487 / 960488 / 960489 / 960490 / 960491 / 960492 / 960493 / 960494 / 960495 / 960496 / 960497 / 960498 / 960499 / 960500 / 960501 / 960502 / 960503 / 960504 / 960505 / 960506 / 960507 / 960508 / 960509 / 960510 / 960511 / 960512 / 960513 / 960514 / 960515 / 960516 / 960517 / 960518 / 960519 / 960520 / 960521 / 960522 / 960523 / 960524 / 960525 / 960526 / 960527 / 960528 / 960529 / 960530 / 960531 / 960532 / 960533 / 960534 / 960535 / 960536 / 960537 / 960538 / 960539 / 960540 / 960541 / 960542 / 960543 / 960544 / 960545 / 960546 / 960547 / 960548 / 960549 / 960550 / 960551 / 960552 / 960553 / 960554 / 960555 / 960556 / 960557 / 960558 / 960559 / 960560 / 960561 / 960562 / 960563 / 960564 / 960565 / 960566 / 960567 / 960568 / 960569 / 960570 / 960571 / 960572 / 960573 / 960574 / 960575 / 960576 / 960577 / 960578 / 960579 / 960580 / 960581 / 960582 / 960583 / 960584 / 960585 / 960586 / 960587 / 960588 / 960589 / 960590 / 960591 / 960592 / 960593 / 960594 / 960595 / 960596 / 960597 / 960598 / 960599 / 960600 / 960601 / 960602 / 960603 / 960604 / 960605 / 960606 / 960607 / 960608 / 960609 / 960610 / 960611 / 960612 / 960613 / 960614 / 960615 / 960616 / 960617 / 960618 / 960619 / 960620 / 960621 / 960622 / 960623 / 960624 / 960625 / 960626 / 960627 / 960628 / 960629 / 960630 / 960631 / 960632 / 960633 / 960634 / 960635 / 960636 / 960637 / 960638 / 960639 / 960640 / 960641 / 960642 / 960643 / 960644 / 960645 / 960646 / 960647 / 960648 / 960649 / 960650 / 960651 / 960652 / 960653 / 960654 / 960655 / 960656 / 960657 / 960658 / 960659 / 960660 / 960661 / 960662 / 960663 / 960664 / 960665 / 960666 / 960667 / 960668 / 960669 / 960670 / 960671 / 960672 / 960673 / 960674 / 960675 / 960676 / 960677 / 960678 / 960679 / 960680 / 960681 / 960682 / 960683 / 960684 / 960685 / 960686 / 960687 / 960688 / 960689 / 960690 / 960691 / 960692 / 960693 / 960694 / 960695 / 960696 / 960697 / 960698 / 960699 / 960700 / 960701 / 960702 / 960703 / 960704 / 960705 / 960706 / 960707 / 960708 / 960709 / 960710 / 960711 / 960712 / 960713 / 960714 / 960715 / 960716 / 960717 / 960718 / 960719 / 960720 / 960721 / 960722 / 960723 / 960724 / 960725 / 960726 / 960727 / 960728 / 960729 / 960730 / 960731 / 960732 / 960733 / 960734 / 960735 / 960736 / 960737 / 960738 / 960739 / 960740 / 960741 / 960742 / 960743 / 960744 / 960745 / 960746 / 960747 / 960748 / 960749 / 960750 / 960751 / 960752 / 960753 / 960754 / 960755 / 960756 / 960757 / 960758 / 960759 / 960760 / 960761 / 960762 / 960763 / 960764 / 960765 / 960766 / 960767 / 960768 / 960769 / 960770 / 960771 / 960772 / 960773 / 960774 / 960775 / 960776 / 960777 / 960778 / 960779 / 960780 / 960781 / 960782 / 960783 / 960784 / 960785 / 960786 / 960787 / 960788 / 960789 / 960790 / 960791 / 960792 / 960793 / 960794 / 960795 / 960796 / 960797 / 960798 / 960799 / 960800 / 960801 / 960802 / 960803 / 960804 / 960805 / 960806 / 960807 / 960808 / 960809 / 960810 / 960811 / 960812 / 960813 / 960814 / 960815 / 960816 / 960817 / 960818 / 960819 / 960820 / 960821 / 960822 / 960823 / 960824 / 960825 / 960826 / 960827 / 960828 / 960829 / 960830 / 960831 / 960832 / 960833 / 960834 / 960835 / 960836 / 960837 / 960838 / 960839 / 960840 / 960841 / 960842 / 960843 / 960844 / 960845 / 960846 / 960847 / 960848 / 960849 / 960850 / 960851 / 960852 / 960853 / 960854 / 960855 / 960856 / 960857 / 960858 / 960859 / 960860 / 960861 / 960862 / 960863 / 960864 / 960865 / 960866 / 960867 / 960868 / 960869 / 960870 / 960871 / 960872 / 960873 / 960874 / 960875 / 960876 / 960877 / 960878 / 960879 / 960880 / 960881 / 960882 / 960883 / 960884 / 960885 / 960886 / 960887 / 960888 / 960889 / 960890 / 960891 / 960892 / 960893 / 960894 / 960895 / 960896 / 960897 / 960898 / 960899 / 960900 / 960901 / 960902 / 960903 / 960904 / 960905 / 960906 / 960907 / 960908 / 960909 / 960910 / 960911 / 960912 / 960913 / 960914 / 960915 / 960916 / 960917 / 960918 / 960919 / 960920 / 960921 / 960922 / 960923 / 960924 / 960925 / 960926 / 960927 / 960928 / 960929 / 960930 / 960931 / 960932 / 960933 / 960934 / 960935 / 960936 / 960937 / 960938 / 960939 / 960940 / 960941 / 960942 / 960943 / 960944 / 960945 / 960946 / 960947 / 960948 / 960949 / 960950 / 960951 / 960952 / 960953 / 960954 / 960955 / 960956 / 960957 / 960958 / 960959 / 960960 / 960"
          ]
        },
        {
          "output_type": "display_data",
          "data": {
            "text/plain": [
              "Time difference of 1.246268 hours"
            ]
          },
          "metadata": {}
        }
      ]
    },
    {
      "cell_type": "markdown",
      "source": [
        "## Richesse_tot"
      ],
      "metadata": {
        "id": "H0x10J6PhJBK"
      }
    },
    {
      "cell_type": "markdown",
      "source": [
        "### Import data"
      ],
      "metadata": {
        "id": "okZrRO9LhRQ3"
      }
    },
    {
      "cell_type": "code",
      "source": [
        "# Data\n",
        "var_rep = \"Richesse_tot\"\n",
        "\n",
        "df_app = read.csv2(\"/content/Richesse_tot_train.csv\")\n",
        "df_valid = read.csv2(\"/content/Richesse_tot_test.csv\")\n",
        "\n",
        "data = rbind(df_app,df_valid)\n",
        "\n",
        "dim(data)"
      ],
      "metadata": {
        "colab": {
          "base_uri": "https://localhost:8080/",
          "height": 34
        },
        "id": "c7VTR1WIhTmh",
        "outputId": "24144b8a-79e8-4317-81f8-62a213dde10d"
      },
      "execution_count": 32,
      "outputs": [
        {
          "output_type": "display_data",
          "data": {
            "text/html": [
              "<style>\n",
              ".list-inline {list-style: none; margin:0; padding: 0}\n",
              ".list-inline>li {display: inline-block}\n",
              ".list-inline>li:not(:last-child)::after {content: \"\\00b7\"; padding: 0 .5ex}\n",
              "</style>\n",
              "<ol class=list-inline><li>3268</li><li>26</li></ol>\n"
            ],
            "text/markdown": "1. 3268\n2. 26\n\n\n",
            "text/latex": "\\begin{enumerate*}\n\\item 3268\n\\item 26\n\\end{enumerate*}\n",
            "text/plain": [
              "[1] 3268   26"
            ]
          },
          "metadata": {}
        }
      ]
    },
    {
      "cell_type": "markdown",
      "source": [
        "### Data preparation"
      ],
      "metadata": {
        "id": "IIsuhoashmGy"
      }
    },
    {
      "cell_type": "code",
      "source": [
        "# str(df_app)\n",
        "# str(df_valid)\n",
        "\n",
        "ind_var_rep <- which(names(df_app) == var_rep)\n",
        "trainingtarget <- df_app[, ind_var_rep]\n",
        "#trainingtarget = sqrt(trainingtarget)\n",
        "training = df_app[,-ind_var_rep]\n",
        "training[,1:19] = scale(training [,1:19])\n",
        "df_app = cbind(trainingtarget,training)\n",
        "colnames(df_app)[ind_var_rep] <- var_rep\n",
        "df_app = as.data.frame(df_app)\n",
        "\n",
        "ind_var_rep <- which(names(df_valid) == var_rep)\n",
        "testtarget <- df_valid[, ind_var_rep]\n",
        "#testtarget <- sqrt(testtarget)\n",
        "test = df_valid[,-ind_var_rep]\n",
        "test[,1:19] = scale(test[,1:19])\n",
        "df_valid = cbind(testtarget,test)\n",
        "colnames(df_valid)[ind_var_rep] <- var_rep\n",
        "df_valid = as.data.frame(df_valid)\n",
        "\n",
        "# str(df_app)\n",
        "# str(df_valid)\n",
        "\n",
        "df_app = as.data.frame(df_app)\n",
        "df_valid = as.data.frame(df_valid)\n",
        "\n",
        "dim(df_app)\n",
        "dim(df_valid)"
      ],
      "metadata": {
        "colab": {
          "base_uri": "https://localhost:8080/",
          "height": 52
        },
        "id": "w_9pHd7mhorG",
        "outputId": "ee3f0801-420a-4734-b022-1755c88cdfc3"
      },
      "execution_count": 33,
      "outputs": [
        {
          "output_type": "display_data",
          "data": {
            "text/html": [
              "<style>\n",
              ".list-inline {list-style: none; margin:0; padding: 0}\n",
              ".list-inline>li {display: inline-block}\n",
              ".list-inline>li:not(:last-child)::after {content: \"\\00b7\"; padding: 0 .5ex}\n",
              "</style>\n",
              "<ol class=list-inline><li>2390</li><li>26</li></ol>\n"
            ],
            "text/markdown": "1. 2390\n2. 26\n\n\n",
            "text/latex": "\\begin{enumerate*}\n\\item 2390\n\\item 26\n\\end{enumerate*}\n",
            "text/plain": [
              "[1] 2390   26"
            ]
          },
          "metadata": {}
        },
        {
          "output_type": "display_data",
          "data": {
            "text/html": [
              "<style>\n",
              ".list-inline {list-style: none; margin:0; padding: 0}\n",
              ".list-inline>li {display: inline-block}\n",
              ".list-inline>li:not(:last-child)::after {content: \"\\00b7\"; padding: 0 .5ex}\n",
              "</style>\n",
              "<ol class=list-inline><li>878</li><li>26</li></ol>\n"
            ],
            "text/markdown": "1. 878\n2. 26\n\n\n",
            "text/latex": "\\begin{enumerate*}\n\\item 878\n\\item 26\n\\end{enumerate*}\n",
            "text/plain": [
              "[1] 878  26"
            ]
          },
          "metadata": {}
        }
      ]
    },
    {
      "cell_type": "markdown",
      "source": [
        "### Tunning"
      ],
      "metadata": {
        "id": "l8PevMmchy9l"
      }
    },
    {
      "cell_type": "code",
      "source": [
        "\n",
        "temps1 = Sys.time()\n",
        "# le df result tot\n",
        "RF_tune_Richesse_tot <- data.frame(mtry = numeric(),\n",
        "                             ntree = numeric(),\n",
        "                             maxnodes = numeric(),\n",
        "                             rmse = numeric(),\n",
        "                             r_squared = numeric(),\n",
        "                             mae = numeric())\n",
        "\n",
        "# Utilisation lapply pour appliquer ForetAlea à chaque combinaison\n",
        "results_list <- lapply(1:nrow(RF_df_grid), function(i) {\n",
        "  mtry <- RF_df_grid[i, \"mtry\"]\n",
        "  ntree <- RF_df_grid[i, \"ntree\"]\n",
        "  maxnodes <- RF_df_grid[i, \"nodesize\"]\n",
        "\n",
        "  res <- ForetAlea(var_rep, df_app, df_valid,\n",
        "                   mtry = mtry, ntree = ntree, maxnodes = maxnodes)\n",
        "\n",
        "  res_df = data.frame(mtry = mtry,\n",
        "                      ntree = ntree,\n",
        "                      maxnodes = maxnodes,\n",
        "                      rmse = res$RMSE,\n",
        "                      r_squared = res$R_squared,\n",
        "                      mae = res$MAE)\n",
        "  cat(i,\"/\",nrow(RF_df_grid))\n",
        "\n",
        "  res_df\n",
        "})\n",
        "\n",
        "# les résultats en un seul data frame\n",
        "RF_tune_Richesse_tot <- do.call(rbind, results_list)\n",
        "\n",
        "temps2 = Sys.time()\n",
        "duree = difftime(temps2,temps1)\n",
        "duree\n",
        "\n",
        "\n",
        "write.csv2(x =RF_tune_Richesse_tot,file = paste0(\"/content/\", var_rep, \"_RF_tuning.csv\"), row.names = FALSE)"
      ],
      "metadata": {
        "colab": {
          "base_uri": "https://localhost:8080/",
          "height": 72
        },
        "id": "F1xuQ2ENh1Sr",
        "outputId": "83195fb8-9815-4de9-c926-41df294c1ea4"
      },
      "execution_count": 34,
      "outputs": [
        {
          "output_type": "stream",
          "name": "stdout",
          "text": [
            "1 / 9602 / 9603 / 9604 / 9605 / 9606 / 9607 / 9608 / 9609 / 96010 / 96011 / 96012 / 96013 / 96014 / 96015 / 96016 / 96017 / 96018 / 96019 / 96020 / 96021 / 96022 / 96023 / 96024 / 96025 / 96026 / 96027 / 96028 / 96029 / 96030 / 96031 / 96032 / 96033 / 96034 / 96035 / 96036 / 96037 / 96038 / 96039 / 96040 / 96041 / 96042 / 96043 / 96044 / 96045 / 96046 / 96047 / 96048 / 96049 / 96050 / 96051 / 96052 / 96053 / 96054 / 96055 / 96056 / 96057 / 96058 / 96059 / 96060 / 96061 / 96062 / 96063 / 96064 / 96065 / 96066 / 96067 / 96068 / 96069 / 96070 / 96071 / 96072 / 96073 / 96074 / 96075 / 96076 / 96077 / 96078 / 96079 / 96080 / 96081 / 96082 / 96083 / 96084 / 96085 / 96086 / 96087 / 96088 / 96089 / 96090 / 96091 / 96092 / 96093 / 96094 / 96095 / 96096 / 96097 / 96098 / 96099 / 960100 / 960101 / 960102 / 960103 / 960104 / 960105 / 960106 / 960107 / 960108 / 960109 / 960110 / 960111 / 960112 / 960113 / 960114 / 960115 / 960116 / 960117 / 960118 / 960119 / 960120 / 960121 / 960122 / 960123 / 960124 / 960125 / 960126 / 960127 / 960128 / 960129 / 960130 / 960131 / 960132 / 960133 / 960134 / 960135 / 960136 / 960137 / 960138 / 960139 / 960140 / 960141 / 960142 / 960143 / 960144 / 960145 / 960146 / 960147 / 960148 / 960149 / 960150 / 960151 / 960152 / 960153 / 960154 / 960155 / 960156 / 960157 / 960158 / 960159 / 960160 / 960161 / 960162 / 960163 / 960164 / 960165 / 960166 / 960167 / 960168 / 960169 / 960170 / 960171 / 960172 / 960173 / 960174 / 960175 / 960176 / 960177 / 960178 / 960179 / 960180 / 960181 / 960182 / 960183 / 960184 / 960185 / 960186 / 960187 / 960188 / 960189 / 960190 / 960191 / 960192 / 960193 / 960194 / 960195 / 960196 / 960197 / 960198 / 960199 / 960200 / 960201 / 960202 / 960203 / 960204 / 960205 / 960206 / 960207 / 960208 / 960209 / 960210 / 960211 / 960212 / 960213 / 960214 / 960215 / 960216 / 960217 / 960218 / 960219 / 960220 / 960221 / 960222 / 960223 / 960224 / 960225 / 960226 / 960227 / 960228 / 960229 / 960230 / 960231 / 960232 / 960233 / 960234 / 960235 / 960236 / 960237 / 960238 / 960239 / 960240 / 960241 / 960242 / 960243 / 960244 / 960245 / 960246 / 960247 / 960248 / 960249 / 960250 / 960251 / 960252 / 960253 / 960254 / 960255 / 960256 / 960257 / 960258 / 960259 / 960260 / 960261 / 960262 / 960263 / 960264 / 960265 / 960266 / 960267 / 960268 / 960269 / 960270 / 960271 / 960272 / 960273 / 960274 / 960275 / 960276 / 960277 / 960278 / 960279 / 960280 / 960281 / 960282 / 960283 / 960284 / 960285 / 960286 / 960287 / 960288 / 960289 / 960290 / 960291 / 960292 / 960293 / 960294 / 960295 / 960296 / 960297 / 960298 / 960299 / 960300 / 960301 / 960302 / 960303 / 960304 / 960305 / 960306 / 960307 / 960308 / 960309 / 960310 / 960311 / 960312 / 960313 / 960314 / 960315 / 960316 / 960317 / 960318 / 960319 / 960320 / 960321 / 960322 / 960323 / 960324 / 960325 / 960326 / 960327 / 960328 / 960329 / 960330 / 960331 / 960332 / 960333 / 960334 / 960335 / 960336 / 960337 / 960338 / 960339 / 960340 / 960341 / 960342 / 960343 / 960344 / 960345 / 960346 / 960347 / 960348 / 960349 / 960350 / 960351 / 960352 / 960353 / 960354 / 960355 / 960356 / 960357 / 960358 / 960359 / 960360 / 960361 / 960362 / 960363 / 960364 / 960365 / 960366 / 960367 / 960368 / 960369 / 960370 / 960371 / 960372 / 960373 / 960374 / 960375 / 960376 / 960377 / 960378 / 960379 / 960380 / 960381 / 960382 / 960383 / 960384 / 960385 / 960386 / 960387 / 960388 / 960389 / 960390 / 960391 / 960392 / 960393 / 960394 / 960395 / 960396 / 960397 / 960398 / 960399 / 960400 / 960401 / 960402 / 960403 / 960404 / 960405 / 960406 / 960407 / 960408 / 960409 / 960410 / 960411 / 960412 / 960413 / 960414 / 960415 / 960416 / 960417 / 960418 / 960419 / 960420 / 960421 / 960422 / 960423 / 960424 / 960425 / 960426 / 960427 / 960428 / 960429 / 960430 / 960431 / 960432 / 960433 / 960434 / 960435 / 960436 / 960437 / 960438 / 960439 / 960440 / 960441 / 960442 / 960443 / 960444 / 960445 / 960446 / 960447 / 960448 / 960449 / 960450 / 960451 / 960452 / 960453 / 960454 / 960455 / 960456 / 960457 / 960458 / 960459 / 960460 / 960461 / 960462 / 960463 / 960464 / 960465 / 960466 / 960467 / 960468 / 960469 / 960470 / 960471 / 960472 / 960473 / 960474 / 960475 / 960476 / 960477 / 960478 / 960479 / 960480 / 960481 / 960482 / 960483 / 960484 / 960485 / 960486 / 960487 / 960488 / 960489 / 960490 / 960491 / 960492 / 960493 / 960494 / 960495 / 960496 / 960497 / 960498 / 960499 / 960500 / 960501 / 960502 / 960503 / 960504 / 960505 / 960506 / 960507 / 960508 / 960509 / 960510 / 960511 / 960512 / 960513 / 960514 / 960515 / 960516 / 960517 / 960518 / 960519 / 960520 / 960521 / 960522 / 960523 / 960524 / 960525 / 960526 / 960527 / 960528 / 960529 / 960530 / 960531 / 960532 / 960533 / 960534 / 960535 / 960536 / 960537 / 960538 / 960539 / 960540 / 960541 / 960542 / 960543 / 960544 / 960545 / 960546 / 960547 / 960548 / 960549 / 960550 / 960551 / 960552 / 960553 / 960554 / 960555 / 960556 / 960557 / 960558 / 960559 / 960560 / 960561 / 960562 / 960563 / 960564 / 960565 / 960566 / 960567 / 960568 / 960569 / 960570 / 960571 / 960572 / 960573 / 960574 / 960575 / 960576 / 960577 / 960578 / 960579 / 960580 / 960581 / 960582 / 960583 / 960584 / 960585 / 960586 / 960587 / 960588 / 960589 / 960590 / 960591 / 960592 / 960593 / 960594 / 960595 / 960596 / 960597 / 960598 / 960599 / 960600 / 960601 / 960602 / 960603 / 960604 / 960605 / 960606 / 960607 / 960608 / 960609 / 960610 / 960611 / 960612 / 960613 / 960614 / 960615 / 960616 / 960617 / 960618 / 960619 / 960620 / 960621 / 960622 / 960623 / 960624 / 960625 / 960626 / 960627 / 960628 / 960629 / 960630 / 960631 / 960632 / 960633 / 960634 / 960635 / 960636 / 960637 / 960638 / 960639 / 960640 / 960641 / 960642 / 960643 / 960644 / 960645 / 960646 / 960647 / 960648 / 960649 / 960650 / 960651 / 960652 / 960653 / 960654 / 960655 / 960656 / 960657 / 960658 / 960659 / 960660 / 960661 / 960662 / 960663 / 960664 / 960665 / 960666 / 960667 / 960668 / 960669 / 960670 / 960671 / 960672 / 960673 / 960674 / 960675 / 960676 / 960677 / 960678 / 960679 / 960680 / 960681 / 960682 / 960683 / 960684 / 960685 / 960686 / 960687 / 960688 / 960689 / 960690 / 960691 / 960692 / 960693 / 960694 / 960695 / 960696 / 960697 / 960698 / 960699 / 960700 / 960701 / 960702 / 960703 / 960704 / 960705 / 960706 / 960707 / 960708 / 960709 / 960710 / 960711 / 960712 / 960713 / 960714 / 960715 / 960716 / 960717 / 960718 / 960719 / 960720 / 960721 / 960722 / 960723 / 960724 / 960725 / 960726 / 960727 / 960728 / 960729 / 960730 / 960731 / 960732 / 960733 / 960734 / 960735 / 960736 / 960737 / 960738 / 960739 / 960740 / 960741 / 960742 / 960743 / 960744 / 960745 / 960746 / 960747 / 960748 / 960749 / 960750 / 960751 / 960752 / 960753 / 960754 / 960755 / 960756 / 960757 / 960758 / 960759 / 960760 / 960761 / 960762 / 960763 / 960764 / 960765 / 960766 / 960767 / 960768 / 960769 / 960770 / 960771 / 960772 / 960773 / 960774 / 960775 / 960776 / 960777 / 960778 / 960779 / 960780 / 960781 / 960782 / 960783 / 960784 / 960785 / 960786 / 960787 / 960788 / 960789 / 960790 / 960791 / 960792 / 960793 / 960794 / 960795 / 960796 / 960797 / 960798 / 960799 / 960800 / 960801 / 960802 / 960803 / 960804 / 960805 / 960806 / 960807 / 960808 / 960809 / 960810 / 960811 / 960812 / 960813 / 960814 / 960815 / 960816 / 960817 / 960818 / 960819 / 960820 / 960821 / 960822 / 960823 / 960824 / 960825 / 960826 / 960827 / 960828 / 960829 / 960830 / 960831 / 960832 / 960833 / 960834 / 960835 / 960836 / 960837 / 960838 / 960839 / 960840 / 960841 / 960842 / 960843 / 960844 / 960845 / 960846 / 960847 / 960848 / 960849 / 960850 / 960851 / 960852 / 960853 / 960854 / 960855 / 960856 / 960857 / 960858 / 960859 / 960860 / 960861 / 960862 / 960863 / 960864 / 960865 / 960866 / 960867 / 960868 / 960869 / 960870 / 960871 / 960872 / 960873 / 960874 / 960875 / 960876 / 960877 / 960878 / 960879 / 960880 / 960881 / 960882 / 960883 / 960884 / 960885 / 960886 / 960887 / 960888 / 960889 / 960890 / 960891 / 960892 / 960893 / 960894 / 960895 / 960896 / 960897 / 960898 / 960899 / 960900 / 960901 / 960902 / 960903 / 960904 / 960905 / 960906 / 960907 / 960908 / 960909 / 960910 / 960911 / 960912 / 960913 / 960914 / 960915 / 960916 / 960917 / 960918 / 960919 / 960920 / 960921 / 960922 / 960923 / 960924 / 960925 / 960926 / 960927 / 960928 / 960929 / 960930 / 960931 / 960932 / 960933 / 960934 / 960935 / 960936 / 960937 / 960938 / 960939 / 960940 / 960941 / 960942 / 960943 / 960944 / 960945 / 960946 / 960947 / 960948 / 960949 / 960950 / 960951 / 960952 / 960953 / 960954 / 960955 / 960956 / 960957 / 960958 / 960959 / 960960 / 960"
          ]
        },
        {
          "output_type": "display_data",
          "data": {
            "text/plain": [
              "Time difference of 2.488603 hours"
            ]
          },
          "metadata": {}
        }
      ]
    },
    {
      "cell_type": "markdown",
      "source": [
        "## GBM\n",
        "Le tunning de GBM a été fait en local: voir script **GBM_tuning.R**"
      ],
      "metadata": {
        "id": "zuaSNL79onZG"
      }
    }
  ]
}